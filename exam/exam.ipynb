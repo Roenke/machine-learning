{
 "cells": [
  {
   "cell_type": "code",
   "execution_count": 53,
   "metadata": {},
   "outputs": [],
   "source": [
    "import pandas as pd\n",
    "%matplotlib inline\n",
    "data = pd.read_csv('./data/exam/CM2.csv', na_values='?')\n",
    "data = data.dropna(axis=0)"
   ]
  },
  {
   "cell_type": "code",
   "execution_count": 43,
   "metadata": {},
   "outputs": [],
   "source": [
    "from sklearn import preprocessing\n",
    "def bin_feature(df, feature):\n",
    "    binarizer = preprocessing.LabelBinarizer()\n",
    "    nw = binarizer.fit_transform(df[feature])\n",
    "    classes = binarizer.classes_\n",
    "    new_names = list(map(lambda cls: feature + \"==\" + str(cls), classes))\n",
    "    if len(binarizer.classes_) == 2:\n",
    "        new_names = new_names[1:]\n",
    "    new_data = pd.DataFrame(nw, columns=new_names)\n",
    "    new_data.index = df.index\n",
    "    new_data = pd.concat([df, new_data], axis=1)\n",
    "    new_data = new_data.drop(feature, axis=1)\n",
    "    return new_data"
   ]
  },
  {
   "cell_type": "code",
   "execution_count": 44,
   "metadata": {},
   "outputs": [],
   "source": [
    "from sklearn import cross_validation\n",
    "data = bin_feature(data, 'C1')\n",
    "data = bin_feature(data, 'C2')\n",
    "X = data.drop(['MPG'], axis=1)\n",
    "Y = data['MPG']\n",
    "x_train, x_test, y_train, y_test = cross_validation.train_test_split(X, Y, test_size=0.2, random_state=11)"
   ]
  },
  {
   "cell_type": "code",
   "execution_count": 52,
   "metadata": {},
   "outputs": [
    {
     "name": "stdout",
     "output_type": "stream",
     "text": [
      "Best result: trees = 430, fail = 22.29896789028649\n"
     ]
    }
   ],
   "source": [
    "from sklearn import ensemble\n",
    "import math\n",
    "best_tree = 10\n",
    "best_score = 1000000000.\n",
    "for tree_count in range(10, 500, 70):\n",
    "    model = ensemble.RandomForestRegressor(n_estimators=tree_count, max_depth=8, random_state=11)\n",
    "    model.fit(x_train, y_train)\n",
    "    res = model.predict(x_test)\n",
    "    fail = 0.\n",
    "    for (r, w) in zip(res, y_test):\n",
    "        fail += (r - w) * (r - w)     \n",
    "    fail = math.sqrt(fail)\n",
    "    if fail < best_score:\n",
    "        best_tree = tree_count\n",
    "        best_score = fail\n",
    "\n",
    "print('Best result: trees = {}, fail = {}'. format(best_tree, best_score))"
   ]
  },
  {
   "cell_type": "code",
   "execution_count": 16,
   "metadata": {},
   "outputs": [],
   "source": [
    ""
   ]
  },
  {
   "cell_type": "code",
   "execution_count": 16,
   "metadata": {},
   "outputs": [],
   "source": [
    ""
   ]
  },
  {
   "cell_type": "code",
   "execution_count": 12,
   "metadata": {},
   "outputs": [],
   "source": [
    ""
   ]
  },
  {
   "cell_type": "code",
   "execution_count": null,
   "metadata": {},
   "outputs": [],
   "source": [
    ""
   ]
  },
  {
   "cell_type": "code",
   "execution_count": 16,
   "metadata": {},
   "outputs": [],
   "source": [
    ""
   ]
  },
  {
   "cell_type": "code",
   "execution_count": null,
   "metadata": {},
   "outputs": [],
   "source": [
    ""
   ]
  }
 ],
 "metadata": {
  "kernelspec": {
   "display_name": "Python 3",
   "language": "python",
   "name": "python3"
  },
  "language_info": {
   "codemirror_mode": {
    "name": "ipython",
    "version": 3.0
   },
   "file_extension": ".py",
   "mimetype": "text/x-python",
   "name": "python",
   "nbconvert_exporter": "python",
   "pygments_lexer": "ipython3",
   "version": "3.5.1"
  }
 },
 "nbformat": 4,
 "nbformat_minor": 0
}