{
 "cells": [
  {
   "cell_type": "code",
   "execution_count": 21,
   "metadata": {
    "collapsed": false
   },
   "outputs": [
    {
     "data": {
      "text/html": [
       "<div>\n",
       "<table border=\"1\" class=\"dataframe\">\n",
       "  <thead>\n",
       "    <tr style=\"text-align: right;\">\n",
       "      <th></th>\n",
       "      <th>MPG</th>\n",
       "      <th>N1</th>\n",
       "      <th>N2</th>\n",
       "      <th>N3</th>\n",
       "      <th>N4</th>\n",
       "      <th>N5</th>\n",
       "      <th>C1</th>\n",
       "      <th>C2</th>\n",
       "    </tr>\n",
       "  </thead>\n",
       "  <tbody>\n",
       "    <tr>\n",
       "      <th>MPG</th>\n",
       "      <td>1.000000</td>\n",
       "      <td>-0.725807</td>\n",
       "      <td>-0.777639</td>\n",
       "      <td>-0.794165</td>\n",
       "      <td>-0.848245</td>\n",
       "      <td>0.262077</td>\n",
       "      <td>0.521834</td>\n",
       "      <td>0.497965</td>\n",
       "    </tr>\n",
       "    <tr>\n",
       "      <th>N1</th>\n",
       "      <td>-0.725807</td>\n",
       "      <td>1.000000</td>\n",
       "      <td>0.940013</td>\n",
       "      <td>0.811630</td>\n",
       "      <td>0.861470</td>\n",
       "      <td>-0.265433</td>\n",
       "      <td>-0.360366</td>\n",
       "      <td>-0.456219</td>\n",
       "    </tr>\n",
       "    <tr>\n",
       "      <th>N2</th>\n",
       "      <td>-0.777639</td>\n",
       "      <td>0.940013</td>\n",
       "      <td>1.000000</td>\n",
       "      <td>0.856358</td>\n",
       "      <td>0.923625</td>\n",
       "      <td>-0.275303</td>\n",
       "      <td>-0.345893</td>\n",
       "      <td>-0.563773</td>\n",
       "    </tr>\n",
       "    <tr>\n",
       "      <th>N3</th>\n",
       "      <td>-0.794165</td>\n",
       "      <td>0.811630</td>\n",
       "      <td>0.856358</td>\n",
       "      <td>1.000000</td>\n",
       "      <td>0.841027</td>\n",
       "      <td>-0.530584</td>\n",
       "      <td>-0.369380</td>\n",
       "      <td>-0.418450</td>\n",
       "    </tr>\n",
       "    <tr>\n",
       "      <th>N4</th>\n",
       "      <td>-0.848245</td>\n",
       "      <td>0.861470</td>\n",
       "      <td>0.923625</td>\n",
       "      <td>0.841027</td>\n",
       "      <td>1.000000</td>\n",
       "      <td>-0.130708</td>\n",
       "      <td>-0.368937</td>\n",
       "      <td>-0.537949</td>\n",
       "    </tr>\n",
       "    <tr>\n",
       "      <th>N5</th>\n",
       "      <td>0.262077</td>\n",
       "      <td>-0.265433</td>\n",
       "      <td>-0.275303</td>\n",
       "      <td>-0.530584</td>\n",
       "      <td>-0.130708</td>\n",
       "      <td>1.000000</td>\n",
       "      <td>0.148603</td>\n",
       "      <td>0.105721</td>\n",
       "    </tr>\n",
       "    <tr>\n",
       "      <th>C1</th>\n",
       "      <td>0.521834</td>\n",
       "      <td>-0.360366</td>\n",
       "      <td>-0.345893</td>\n",
       "      <td>-0.369380</td>\n",
       "      <td>-0.368937</td>\n",
       "      <td>0.148603</td>\n",
       "      <td>1.000000</td>\n",
       "      <td>0.133411</td>\n",
       "    </tr>\n",
       "    <tr>\n",
       "      <th>C2</th>\n",
       "      <td>0.497965</td>\n",
       "      <td>-0.456219</td>\n",
       "      <td>-0.563773</td>\n",
       "      <td>-0.418450</td>\n",
       "      <td>-0.537949</td>\n",
       "      <td>0.105721</td>\n",
       "      <td>0.133411</td>\n",
       "      <td>1.000000</td>\n",
       "    </tr>\n",
       "  </tbody>\n",
       "</table>\n",
       "</div>"
      ],
      "text/plain": [
       "          MPG        N1        N2        N3        N4        N5        C1  \\\n",
       "MPG  1.000000 -0.725807 -0.777639 -0.794165 -0.848245  0.262077  0.521834   \n",
       "N1  -0.725807  1.000000  0.940013  0.811630  0.861470 -0.265433 -0.360366   \n",
       "N2  -0.777639  0.940013  1.000000  0.856358  0.923625 -0.275303 -0.345893   \n",
       "N3  -0.794165  0.811630  0.856358  1.000000  0.841027 -0.530584 -0.369380   \n",
       "N4  -0.848245  0.861470  0.923625  0.841027  1.000000 -0.130708 -0.368937   \n",
       "N5   0.262077 -0.265433 -0.275303 -0.530584 -0.130708  1.000000  0.148603   \n",
       "C1   0.521834 -0.360366 -0.345893 -0.369380 -0.368937  0.148603  1.000000   \n",
       "C2   0.497965 -0.456219 -0.563773 -0.418450 -0.537949  0.105721  0.133411   \n",
       "\n",
       "           C2  \n",
       "MPG  0.497965  \n",
       "N1  -0.456219  \n",
       "N2  -0.563773  \n",
       "N3  -0.418450  \n",
       "N4  -0.537949  \n",
       "N5   0.105721  \n",
       "C1   0.133411  \n",
       "C2   1.000000  "
      ]
     },
     "execution_count": 21,
     "metadata": {},
     "output_type": "execute_result"
    }
   ],
   "source": [
    "import pandas as pd\n",
    "%matplotlib inline\n",
    "data = pd.read_csv('../data/exam/CM2.csv', na_values='?')\n",
    "data = data.dropna(axis=0)\n",
    "data.corr()"
   ]
  },
  {
   "cell_type": "code",
   "execution_count": 26,
   "metadata": {
    "collapsed": false
   },
   "outputs": [
    {
     "data": {
      "text/plain": [
       "<matplotlib.axes._subplots.AxesSubplot at 0x16c5b9c10f0>"
      ]
     },
     "execution_count": 26,
     "metadata": {},
     "output_type": "execute_result"
    },
    {
     "data": {
      "image/png": "[encoded data removed]",
      "text/plain": [
       "<matplotlib.figure.Figure at 0x16c5b9c1630>"
      ]
     },
     "metadata": {},
     "output_type": "display_data"
    }
   ],
   "source": [
    "data['MPG'].hist()"
   ]
  },
  {
   "cell_type": "code",
   "execution_count": 22,
   "metadata": {
    "collapsed": true
   },
   "outputs": [],
   "source": [
    "from sklearn import preprocessing\n",
    "def bin_feature(df, feature):\n",
    "    binarizer = preprocessing.LabelBinarizer()\n",
    "    nw = binarizer.fit_transform(df[feature])\n",
    "    classes = binarizer.classes_\n",
    "    new_names = list(map(lambda cls: feature + \"==\" + str(cls), classes))\n",
    "    if len(binarizer.classes_) == 2:\n",
    "        new_names = new_names[1:]\n",
    "    new_data = pd.DataFrame(nw, columns=new_names)\n",
    "    new_data.index = df.index\n",
    "    new_data = pd.concat([df, new_data], axis=1)\n",
    "    new_data = new_data.drop(feature, axis=1)\n",
    "    return new_data"
   ]
  },
  {
   "cell_type": "code",
   "execution_count": 23,
   "metadata": {
    "collapsed": true
   },
   "outputs": [],
   "source": [
    "from sklearn import cross_validation\n",
    "data = bin_feature(data, 'C1')\n",
    "data = bin_feature(data, 'C2')\n",
    "X = data.drop(['MPG'], axis=1)\n",
    "Y = data['MPG']\n",
    "x_train, x_test, y_train, y_test = cross_validation.train_test_split(X, Y, test_size=0.2, random_state=11)"
   ]
  },
  {
   "cell_type": "code",
   "execution_count": 35,
   "metadata": {
    "collapsed": false
   },
   "outputs": [
    {
     "name": "stdout",
     "output_type": "stream",
     "text": [
      "Best result: trees = 290, fail = 21.175906179356662\n"
     ]
    },
    {
     "data": {
      "text/plain": [
       "array([[<matplotlib.axes._subplots.AxesSubplot object at 0x0000016C5C0CA588>]], dtype=object)"
      ]
     },
     "execution_count": 35,
     "metadata": {},
     "output_type": "execute_result"
    },
    {
     "data": {
      "image/png": "[encoded data removed]",
      "text/plain": [
       "<matplotlib.figure.Figure at 0x16c5b98d278>"
      ]
     },
     "metadata": {},
     "output_type": "display_data"
    },
    {
     "data": {
      "image/png": "[encoded data removed]",
      "text/plain": [
       "<matplotlib.figure.Figure at 0x16c5c0ad2e8>"
      ]
     },
     "metadata": {},
     "output_type": "display_data"
    }
   ],
   "source": [
    "from sklearn import ensemble\n",
    "import numpy as np\n",
    "import math\n",
    "best_tree = 10\n",
    "best_score = 1000000000.\n",
    "for tree_count in range(10, 500, 70):\n",
    "    model = ensemble.RandomForestRegressor(n_estimators=tree_count, max_depth=8, random_state=11)\n",
    "    model.fit(x_train, y_train)\n",
    "    res = model.predict(x_test)\n",
    "    fail = 0.\n",
    "    for (r, w) in zip(res, y_test):\n",
    "        fail += (r - w) * (r - w)     \n",
    "    fail = math.sqrt(fail)\n",
    "    if fail < best_score:\n",
    "        best_tree = tree_count\n",
    "        best_score = fail\n",
    "\n",
    "print('Best result: trees = {}, fail = {}'. format(best_tree, best_score))\n",
    "pd.DataFrame(data=y_test).hist()\n",
    "pd.DataFrame(data=results[best_tree]).hist()"
   ]
  },
  {
   "cell_type": "code",
   "execution_count": null,
   "metadata": {
    "collapsed": true
   },
   "outputs": [],
   "source": []
  }
 ],
 "metadata": {
  "kernelspec": {
   "display_name": "Python 3",
   "language": "python",
   "name": "python3"
  },
  "language_info": {
   "codemirror_mode": {
    "name": "ipython",
    "version": 3
   },
   "file_extension": ".py",
   "mimetype": "text/x-python",
   "name": "python",
   "nbconvert_exporter": "python",
   "pygments_lexer": "ipython3",
   "version": "3.5.1"
  }
 },
 "nbformat": 4,
 "nbformat_minor": 0
}
