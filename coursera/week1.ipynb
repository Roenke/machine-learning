{
 "cells": [
  {
   "cell_type": "heading",
   "metadata": {
    "collapsed": true
   },
   "level": 3,
   "source": [
    "Generate 1000x50 matrix from N(1, 10)"
   ]
  },
  {
   "cell_type": "code",
   "execution_count": 5,
   "metadata": {},
   "outputs": [
    {
     "name": "stdout",
     "output_type": "stream",
     "text": [
      "[[  3.98844281e+00   1.28327787e+00  -1.15330668e+01 ...,   1.07377011e+01\n   -1.66280585e+01   6.67906868e+00]\n [  1.42719927e+01   6.67361386e+00  -1.08829789e+01 ...,  -1.57947958e-02\n   -8.87016688e+00   6.68014852e+00]\n [  3.69365782e+00   1.29369026e+01   7.65125400e+00 ...,  -5.04860088e+00\n    9.47385781e+00  -2.13539157e+01]\n ..., \n [  1.19872243e+01  -4.85037186e+00  -4.80035759e+00 ...,  -1.35505486e+01\n    8.29171405e+00   1.92690661e+01]\n [  9.79313632e+00  -8.20542713e+00   3.35187825e-01 ...,  -1.44274555e+01\n   -3.90878996e+00  -6.91024515e+00]\n [ -3.70660559e+00   1.78258715e+01   3.32939399e+00 ...,   2.24456102e+01\n   -2.22340556e+00  -2.19886014e+00]]\n"
     ]
    }
   ],
   "source": [
    "import numpy as np\n",
    "x = np.random.normal(loc=1, scale=10., size=(1000, 50))\n",
    "print(x)"
   ]
  },
  {
   "cell_type": "markdown",
   "metadata": {},
   "source": [
    ""
   ]
  },
  {
   "cell_type": "code",
   "execution_count": 11,
   "metadata": {},
   "outputs": [
    {
     "data": {
      "text/plain": [
       "array([[  3.10544156e-01,   3.93695726e-02,  -1.15064350e+00, ...,\n          8.98309469e-01,  -1.76227284e+00,   6.14092480e-01],\n       [  1.33451792e+00,   5.79255296e-01,  -1.08762264e+00, ...,\n         -1.67999706e-01,  -9.85217494e-01,   6.14205629e-01],\n       [  2.81191247e-01,   1.20657429e+00,   7.09124005e-01, ...,\n         -6.67049256e-01,   8.52178950e-01,  -2.32330673e+00],\n       ..., \n       [  1.10701448e+00,  -5.74965031e-01,  -4.97960823e-01, ...,\n         -1.51009647e+00,   7.33771633e-01,   1.93331871e+00],\n       [  8.88540462e-01,  -9.11000938e-01,  -1.10491930e-04, ...,\n         -1.59704996e+00,  -4.88270043e-01,  -8.09845806e-01],\n       [ -4.55682269e-01,   1.69624405e+00,   2.90154010e-01, ...,\n          2.05925758e+00,  -3.19456527e-01,  -3.16169556e-01]])"
      ]
     },
     "execution_count": 11,
     "metadata": {},
     "output_type": "execute_result"
    }
   ],
   "source": [
    "mean = np.mean(x, axis=0)\n",
    "std = np.std(x, axis=0)\n",
    "x_normalized = ((x - mean) / std)\n",
    "x_normalized"
   ]
  },
  {
   "cell_type": "code",
   "execution_count": 16,
   "metadata": {},
   "outputs": [
    {
     "data": {
      "text/plain": [
       "(array([1, 4, 5], dtype=int64),)"
      ]
     },
     "execution_count": 16,
     "metadata": {},
     "output_type": "execute_result"
    }
   ],
   "source": [
    "Z = np.array([[4, 5, 0], \n",
    "             [1, 9, 3],              \n",
    "             [5, 1, 1],\n",
    "             [3, 3, 3], \n",
    "             [9, 9, 9], \n",
    "             [4, 7, 1]])\n",
    "np.nonzero(np.sum(Z, axis=1) > 10)"
   ]
  },
  {
   "cell_type": "markdown",
   "metadata": {},
   "source": [
    "Объединение матриц\n",
    "\n",
    "Сгенерируйте две единичные матрицы (т.е. с единицами на диагонали) размера 3x3. Соедините две матрицы в одну размера 6x3."
   ]
  },
  {
   "cell_type": "code",
   "execution_count": null,
   "metadata": {},
   "outputs": [],
   "source": [
    "m1 = np.eye(3, 3)\n",
    "m2 = np.eye(3, 3)\n",
    "np.vstack(m1, m2)"
   ]
  },
  {
   "cell_type": "code",
   "execution_count": null,
   "outputs": [],
   "source": [
    ""
   ]
  }
 ],
 "metadata": {
  "kernelspec": {
   "display_name": "Python 2",
   "language": "python",
   "name": "python2"
  },
  "language_info": {
   "codemirror_mode": {
    "name": "ipython",
    "version": 2.0
   },
   "file_extension": ".py",
   "mimetype": "text/x-python",
   "name": "python",
   "nbconvert_exporter": "python",
   "pygments_lexer": "ipython2",
   "version": "2.7.6"
  }
 },
 "nbformat": 4,
 "nbformat_minor": 0
}